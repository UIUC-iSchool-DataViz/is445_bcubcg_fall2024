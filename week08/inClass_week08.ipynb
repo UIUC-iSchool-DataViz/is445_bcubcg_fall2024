{
 "cells": [
  {
   "cell_type": "markdown",
   "id": "respective-store",
   "metadata": {},
   "source": [
    "# In Class Notebook, Week 08"
   ]
  },
  {
   "cell_type": "markdown",
   "id": "2a597611",
   "metadata": {},
   "source": [
    "You can always find here: https://github.com/UIUC-iSchool-DataViz/is445_bcubcg_fall2024/blob/master/week08/inClass_week08.ipynb  \n",
    "\n",
    "Or into the nbviewer interface for a plain-text rendering:\n",
    "\n",
    "https://kokes.github.io/nbviewer.js/viewer.html"
   ]
  },
  {
   "cell_type": "code",
   "execution_count": 1,
   "id": "321d570a",
   "metadata": {},
   "outputs": [],
   "source": [
    "import bqplot"
   ]
  },
  {
   "cell_type": "code",
   "execution_count": 2,
   "id": "40fec1f6-2094-44ae-bb75-f68a0bb1d2a1",
   "metadata": {},
   "outputs": [],
   "source": [
    "# 1. data\n",
    "shape_data = bqplot.topo_load('map_data/WorldMap.json')"
   ]
  },
  {
   "cell_type": "code",
   "execution_count": 3,
   "id": "c9917b21-c76f-421e-b0d4-b881f6fbf165",
   "metadata": {},
   "outputs": [],
   "source": [
    "# 2. scales/axis\n",
    "sc_geo = bqplot.Mercator() # we know this is not a great projection!"
   ]
  },
  {
   "cell_type": "code",
   "execution_count": 5,
   "id": "ff615eaf-5851-4abd-bb76-1a4d11d8a052",
   "metadata": {},
   "outputs": [],
   "source": [
    "# 3. marks\n",
    "#bqplot.Map?\n",
    "shape_map = bqplot.Map(map_data = shape_data, scales = {'projection':sc_geo})"
   ]
  },
  {
   "cell_type": "code",
   "execution_count": 7,
   "id": "77e4fa9e-ddf5-45f8-b9ac-8d78741f26c6",
   "metadata": {},
   "outputs": [
    {
     "data": {
      "application/vnd.jupyter.widget-view+json": {
       "model_id": "57da6cb5265a4ca985799006b718aa42",
       "version_major": 2,
       "version_minor": 0
      },
      "text/plain": [
       "Figure(fig_margin={'top': 0, 'bottom': 0, 'left': 0, 'right': 0}, marks=[Map(hovered_styles={'hovered_fill': '…"
      ]
     },
     "metadata": {},
     "output_type": "display_data"
    }
   ],
   "source": [
    "# all together now\n",
    "fig = bqplot.Figure(marks=[shape_map], \n",
    "                   fig_margin={'top':0, 'bottom':0, 'left':0, 'right':0})\n",
    "fig"
   ]
  },
  {
   "cell_type": "code",
   "execution_count": 11,
   "id": "fe5f944f-f4a2-4392-b697-12deb7daf356",
   "metadata": {},
   "outputs": [
    {
     "data": {
      "application/vnd.jupyter.widget-view+json": {
       "model_id": "6a012e592aa54443abafb62c74e87e40",
       "version_major": 2,
       "version_minor": 0
      },
      "text/plain": [
       "Figure(fig_margin={'top': 0, 'bottom': 0, 'left': 0, 'right': 0}, marks=[Map(hovered_styles={'hovered_fill': '…"
      ]
     },
     "metadata": {},
     "output_type": "display_data"
    }
   ],
   "source": [
    "# 1. data\n",
    "shape_data = bqplot.topo_load('map_data/USStatesMap.json')\n",
    "\n",
    "# 2. scales/axis\n",
    "#sc_geo = bqplot.Mercator() # we know this is not a great projection!\n",
    "sc_geo = bqplot.AlbersUSA()\n",
    "\n",
    "# 3. marks\n",
    "shape_map = bqplot.Map(map_data = shape_data, scales = {'projection':sc_geo})\n",
    "\n",
    "# all together now\n",
    "fig = bqplot.Figure(marks=[shape_map], \n",
    "                   fig_margin={'top':0, 'bottom':0, 'left':0, 'right':0})\n",
    "fig"
   ]
  },
  {
   "cell_type": "code",
   "execution_count": null,
   "id": "2371ef47-d47a-4135-a36b-394647b43f9c",
   "metadata": {},
   "outputs": [],
   "source": []
  }
 ],
 "metadata": {
  "kernelspec": {
   "display_name": "Python 3 (ipykernel)",
   "language": "python",
   "name": "python3"
  },
  "language_info": {
   "codemirror_mode": {
    "name": "ipython",
    "version": 3
   },
   "file_extension": ".py",
   "mimetype": "text/x-python",
   "name": "python",
   "nbconvert_exporter": "python",
   "pygments_lexer": "ipython3",
   "version": "3.10.14"
  }
 },
 "nbformat": 4,
 "nbformat_minor": 5
}
