{
 "cells": [
  {
   "cell_type": "markdown",
   "id": "respective-store",
   "metadata": {},
   "source": [
    "# In Class Notebook, Week 03"
   ]
  },
  {
   "cell_type": "markdown",
   "id": "patent-merit",
   "metadata": {},
   "source": [
    "To access this in near-real time try: https://github.com/UIUC-iSchool-DataViz/is445_bcubcg_fall2024/blob/master/week03/inClass_week03.ipynb\n",
    "\n",
    "Or paste this URL into the nbviewer interface for a plain-text rendering:\n",
    "\n",
    "https://kokes.github.io/nbviewer.js/viewer.html"
   ]
  },
  {
   "cell_type": "markdown",
   "id": "862b913e-4b46-4c43-93fc-9bdc5490c780",
   "metadata": {},
   "source": [
    "hello!  I am writing some words!"
   ]
  },
  {
   "cell_type": "code",
   "execution_count": 1,
   "id": "98486bb0-0e02-4c6f-9693-005dcca5ea9f",
   "metadata": {},
   "outputs": [
    {
     "data": {
      "text/plain": [
       "5"
      ]
     },
     "execution_count": 1,
     "metadata": {},
     "output_type": "execute_result"
    }
   ],
   "source": [
    "2+3"
   ]
  },
  {
   "cell_type": "code",
   "execution_count": 2,
   "id": "856fa4e3-c4cb-4ab6-a6e9-2aacb132fe40",
   "metadata": {},
   "outputs": [
    {
     "name": "stdout",
     "output_type": "stream",
     "text": [
      "hello there!\n"
     ]
    }
   ],
   "source": [
    "print('hello there!')"
   ]
  },
  {
   "cell_type": "markdown",
   "id": "88d1a767-315d-491e-b5e4-f1eac14ed95f",
   "metadata": {},
   "source": [
    "Prof. Jill forgets where it is in the dropdown menus, but! `ESC+m` makes a markdown cell."
   ]
  },
  {
   "cell_type": "markdown",
   "id": "2c5c957b-0c9a-4d14-b6f6-b178b16d5ad0",
   "metadata": {},
   "source": [
    "Another useful hot-key is `SHIFT + RETURN` to run cells."
   ]
  },
  {
   "cell_type": "markdown",
   "id": "99dc24fd-79d3-424f-b2bc-56171e836497",
   "metadata": {},
   "source": [
    "# I have a big title\n",
    "## This is a smaller title\n",
    "### Somewhat smaller\n",
    "#### I think this is the smallest\n",
    "\n",
    "I can also write plain text."
   ]
  },
  {
   "cell_type": "markdown",
   "id": "3c09dc0c-b7f9-4c81-a119-220d80eb650a",
   "metadata": {},
   "source": [
    "I can also make ordered lists:\n",
    "1. thing 1\n",
    "1. thing 2\n",
    "1. thing 3\n",
    "\n",
    "I can also make unordered lists:\n",
    "* this is an item\n",
    "* this is another item\n",
    "    * this is a sub-item to the item above\n",
    "\n",
    "### Some things we won't use to much but are still cool:\n",
    "- [X] task 1\n",
    "- [ ] task 2\n",
    "\n",
    "I can write an in-line math formula lik $x = \\frac{2}{3}$, but I can also do larger equations:\n",
    "\n",
    "$$y = \\frac{x}{2}$$"
   ]
  },
  {
   "cell_type": "code",
   "execution_count": null,
   "id": "2091bfdf-4a6f-44b0-bbd0-eed1aa72ef45",
   "metadata": {},
   "outputs": [],
   "source": []
  }
 ],
 "metadata": {
  "kernelspec": {
   "display_name": "Python 3 (ipykernel)",
   "language": "python",
   "name": "python3"
  },
  "language_info": {
   "codemirror_mode": {
    "name": "ipython",
    "version": 3
   },
   "file_extension": ".py",
   "mimetype": "text/x-python",
   "name": "python",
   "nbconvert_exporter": "python",
   "pygments_lexer": "ipython3",
   "version": "3.10.14"
  }
 },
 "nbformat": 4,
 "nbformat_minor": 5
}
