{
 "cells": [
  {
   "cell_type": "markdown",
   "id": "respective-store",
   "metadata": {},
   "source": [
    "# In Class Notebook, Week 03"
   ]
  },
  {
   "cell_type": "markdown",
   "id": "patent-merit",
   "metadata": {},
   "source": [
    "To access this in near-real time try: https://github.com/UIUC-iSchool-DataViz/is445_bcubcg_fall2024/blob/master/week03/inClass_week03.ipynb\n",
    "\n",
    "Or paste this URL into the nbviewer interface for a plain-text rendering:\n",
    "\n",
    "https://kokes.github.io/nbviewer.js/viewer.html"
   ]
  },
  {
   "cell_type": "markdown",
   "id": "862b913e-4b46-4c43-93fc-9bdc5490c780",
   "metadata": {},
   "source": [
    "hello!  I am writing some words!"
   ]
  },
  {
   "cell_type": "code",
   "execution_count": 1,
   "id": "98486bb0-0e02-4c6f-9693-005dcca5ea9f",
   "metadata": {},
   "outputs": [
    {
     "data": {
      "text/plain": [
       "5"
      ]
     },
     "execution_count": 1,
     "metadata": {},
     "output_type": "execute_result"
    }
   ],
   "source": [
    "2+3"
   ]
  },
  {
   "cell_type": "code",
   "execution_count": 2,
   "id": "856fa4e3-c4cb-4ab6-a6e9-2aacb132fe40",
   "metadata": {},
   "outputs": [
    {
     "name": "stdout",
     "output_type": "stream",
     "text": [
      "hello there!\n"
     ]
    }
   ],
   "source": [
    "print('hello there!')"
   ]
  },
  {
   "cell_type": "markdown",
   "id": "88d1a767-315d-491e-b5e4-f1eac14ed95f",
   "metadata": {},
   "source": [
    "Prof. Jill forgets where it is in the dropdown menus, but! `ESC+m` makes a markdown cell."
   ]
  },
  {
   "cell_type": "markdown",
   "id": "2c5c957b-0c9a-4d14-b6f6-b178b16d5ad0",
   "metadata": {},
   "source": [
    "Another useful hot-key is `SHIFT + RETURN` to run cells."
   ]
  },
  {
   "cell_type": "markdown",
   "id": "99dc24fd-79d3-424f-b2bc-56171e836497",
   "metadata": {},
   "source": [
    "# I have a big title\n",
    "## This is a smaller title\n",
    "### Somewhat smaller\n",
    "#### I think this is the smallest\n",
    "\n",
    "I can also write plain text."
   ]
  },
  {
   "cell_type": "markdown",
   "id": "3c09dc0c-b7f9-4c81-a119-220d80eb650a",
   "metadata": {},
   "source": [
    "I can also make ordered lists:\n",
    "1. thing 1\n",
    "1. thing 2\n",
    "1. thing 3\n",
    "\n",
    "I can also make unordered lists:\n",
    "* this is an item\n",
    "* this is another item\n",
    "    * this is a sub-item to the item above\n",
    "\n",
    "### Some things we won't use to much but are still cool:\n",
    "- [X] task 1\n",
    "- [ ] task 2\n",
    "\n",
    "I can write an in-line math formula lik $x = \\frac{2}{3}$, but I can also do larger equations:\n",
    "\n",
    "$$y = \\frac{x}{2}$$\n",
    "\n",
    "### How to write code in Markdown\n",
    "I can do inline code with `var = 7`.  I can also do \"popped out\" code:\n",
    "\n",
    "```\n",
    "var = 7\n",
    "```\n",
    "\n",
    "Let's say we know the type of code we are using is Python:\n",
    "\n",
    "```python\n",
    "var = 7\n",
    "```"
   ]
  },
  {
   "cell_type": "markdown",
   "id": "5ea66187-efc4-49ab-856d-bcd8c14a93a2",
   "metadata": {},
   "source": [
    "## Images (raster) in Python"
   ]
  },
  {
   "cell_type": "code",
   "execution_count": 3,
   "id": "8a3845e2-3203-416c-9b3e-30a866f01d5d",
   "metadata": {},
   "outputs": [],
   "source": [
    "import matplotlib\n",
    "import matplotlib.pyplot as plt # let us use \"plt\" instead of the whole matplotlib.pyplot"
   ]
  },
  {
   "cell_type": "code",
   "execution_count": 4,
   "id": "93a47985-536b-4533-b71e-40f8d61fb791",
   "metadata": {},
   "outputs": [],
   "source": [
    "import PIL.Image as Image # only the Image function"
   ]
  },
  {
   "cell_type": "markdown",
   "id": "66ab8582-02c3-4c1f-953a-98fffc622527",
   "metadata": {},
   "source": [
    "Hot key to add cell above is `ESC + a`, to add cell below is `ESC + b`"
   ]
  },
  {
   "cell_type": "code",
   "execution_count": 9,
   "id": "468b3d57-a823-4522-9ba8-5ea13646040e",
   "metadata": {},
   "outputs": [],
   "source": [
    "#!ls"
   ]
  },
  {
   "cell_type": "code",
   "execution_count": 5,
   "id": "8f7aeb06-b49e-44a6-8ff4-cd31d9476aad",
   "metadata": {},
   "outputs": [
    {
     "name": "stdout",
     "output_type": "stream",
     "text": [
      "--2024-09-09 13:07:55--  https://github.com/UIUC-iSchool-DataViz/is445_data/raw/main/stitch_reworked.png\n",
      "Resolving github.com (github.com)... 140.82.114.3\n",
      "Connecting to github.com (github.com)|140.82.114.3|:443... connected.\n",
      "HTTP request sent, awaiting response... 302 Found\n",
      "Location: https://raw.githubusercontent.com/UIUC-iSchool-DataViz/is445_data/main/stitch_reworked.png [following]\n",
      "--2024-09-09 13:07:55--  https://raw.githubusercontent.com/UIUC-iSchool-DataViz/is445_data/main/stitch_reworked.png\n",
      "Resolving raw.githubusercontent.com (raw.githubusercontent.com)... 185.199.108.133, 185.199.109.133, 185.199.110.133, ...\n",
      "Connecting to raw.githubusercontent.com (raw.githubusercontent.com)|185.199.108.133|:443... connected.\n",
      "HTTP request sent, awaiting response... 200 OK\n",
      "Length: 9459 (9.2K) [image/png]\n",
      "Saving to: 'stitch_reworked.png.1'\n",
      "\n",
      "stitch_reworked.png 100%[===================>]   9.24K  --.-KB/s    in 0s      \n",
      "\n",
      "2024-09-09 13:07:55 (21.3 MB/s) - 'stitch_reworked.png.1' saved [9459/9459]\n",
      "\n"
     ]
    }
   ],
   "source": [
    "!wget https://github.com/UIUC-iSchool-DataViz/is445_data/raw/main/stitch_reworked.png"
   ]
  },
  {
   "cell_type": "code",
   "execution_count": 10,
   "id": "cc1faf24-a4ae-4ded-9150-817e197b54bd",
   "metadata": {},
   "outputs": [],
   "source": [
    "im = Image.open('stitch_reworked.png')"
   ]
  },
  {
   "cell_type": "code",
   "execution_count": 11,
   "id": "c14dccdf-05da-4f6e-bf4c-ad6d6536e779",
   "metadata": {},
   "outputs": [
    {
     "data": {
      "image/png": "[encoded data removed]",
      "text/plain": [
       "<PIL.PngImagePlugin.PngImageFile image mode=RGBA size=430x483>"
      ]
     },
     "execution_count": 11,
     "metadata": {},
     "output_type": "execute_result"
    }
   ],
   "source": [
    "im"
   ]
  },
  {
   "cell_type": "code",
   "execution_count": 12,
   "id": "941e9225-c109-4319-ab46-6804661b2de9",
   "metadata": {},
   "outputs": [
    {
     "data": {
      "text/plain": [
       "PIL.PngImagePlugin.PngImageFile"
      ]
     },
     "execution_count": 12,
     "metadata": {},
     "output_type": "execute_result"
    }
   ],
   "source": [
    "type(im)"
   ]
  },
  {
   "cell_type": "code",
   "execution_count": 13,
   "id": "25173d73-f0d7-446e-a56d-c83f07d40f0a",
   "metadata": {},
   "outputs": [],
   "source": [
    "import numpy as np"
   ]
  },
  {
   "cell_type": "code",
   "execution_count": 14,
   "id": "363e9bdf-980e-4183-9fc3-5f657a9caad6",
   "metadata": {},
   "outputs": [],
   "source": [
    "im_data = np.array(im)"
   ]
  },
  {
   "cell_type": "code",
   "execution_count": 15,
   "id": "6dce0db4-7164-42ae-b244-340027bb42c9",
   "metadata": {},
   "outputs": [
    {
     "data": {
      "text/plain": [
       "array([[[0, 0, 0, 0],\n",
       "        [0, 0, 0, 0],\n",
       "        [0, 0, 0, 0],\n",
       "        ...,\n",
       "        [0, 0, 0, 0],\n",
       "        [0, 0, 0, 0],\n",
       "        [0, 0, 0, 0]],\n",
       "\n",
       "       [[0, 0, 0, 0],\n",
       "        [0, 0, 0, 0],\n",
       "        [0, 0, 0, 0],\n",
       "        ...,\n",
       "        [0, 0, 0, 0],\n",
       "        [0, 0, 0, 0],\n",
       "        [0, 0, 0, 0]],\n",
       "\n",
       "       [[0, 0, 0, 0],\n",
       "        [0, 0, 0, 0],\n",
       "        [0, 0, 0, 0],\n",
       "        ...,\n",
       "        [0, 0, 0, 0],\n",
       "        [0, 0, 0, 0],\n",
       "        [0, 0, 0, 0]],\n",
       "\n",
       "       ...,\n",
       "\n",
       "       [[0, 0, 0, 0],\n",
       "        [0, 0, 0, 0],\n",
       "        [0, 0, 0, 0],\n",
       "        ...,\n",
       "        [0, 0, 0, 0],\n",
       "        [0, 0, 0, 0],\n",
       "        [0, 0, 0, 0]],\n",
       "\n",
       "       [[0, 0, 0, 0],\n",
       "        [0, 0, 0, 0],\n",
       "        [0, 0, 0, 0],\n",
       "        ...,\n",
       "        [0, 0, 0, 0],\n",
       "        [0, 0, 0, 0],\n",
       "        [0, 0, 0, 0]],\n",
       "\n",
       "       [[0, 0, 0, 0],\n",
       "        [0, 0, 0, 0],\n",
       "        [0, 0, 0, 0],\n",
       "        ...,\n",
       "        [0, 0, 0, 0],\n",
       "        [0, 0, 0, 0],\n",
       "        [0, 0, 0, 0]]], dtype=uint8)"
      ]
     },
     "execution_count": 15,
     "metadata": {},
     "output_type": "execute_result"
    }
   ],
   "source": [
    "im_data"
   ]
  },
  {
   "cell_type": "code",
   "execution_count": 16,
   "id": "982bee45-2b70-40db-abfd-0f50e536dbcc",
   "metadata": {},
   "outputs": [
    {
     "data": {
      "text/plain": [
       "(483, 430, 4)"
      ]
     },
     "execution_count": 16,
     "metadata": {},
     "output_type": "execute_result"
    }
   ],
   "source": [
    "im_data.shape # rows are 483, columns are 430 and there are 4 \"color channels\""
   ]
  },
  {
   "cell_type": "code",
   "execution_count": 17,
   "id": "87936ba6-240d-4734-810f-f588f45c1c88",
   "metadata": {},
   "outputs": [
    {
     "data": {
      "text/plain": [
       "array([  0,  22,  33, 126, 255], dtype=uint8)"
      ]
     },
     "execution_count": 17,
     "metadata": {},
     "output_type": "execute_result"
    }
   ],
   "source": [
    "np.unique(im_data)"
   ]
  },
  {
   "cell_type": "code",
   "execution_count": 18,
   "id": "0ba9c32d-dbb3-40b1-9fb2-976e69303aec",
   "metadata": {},
   "outputs": [
    {
     "data": {
      "text/plain": [
       "array([[0, 0, 0, 0],\n",
       "       [0, 0, 0, 0],\n",
       "       [0, 0, 0, 0],\n",
       "       ...,\n",
       "       [0, 0, 0, 0],\n",
       "       [0, 0, 0, 0],\n",
       "       [0, 0, 0, 0]], dtype=uint8)"
      ]
     },
     "execution_count": 18,
     "metadata": {},
     "output_type": "execute_result"
    }
   ],
   "source": [
    "im_data.reshape(-1, im_data.shape[2])"
   ]
  },
  {
   "cell_type": "code",
   "execution_count": 19,
   "id": "54309ae7-908a-4a2c-9615-c26ace65cd56",
   "metadata": {},
   "outputs": [
    {
     "data": {
      "text/plain": [
       "(207690, 4)"
      ]
     },
     "execution_count": 19,
     "metadata": {},
     "output_type": "execute_result"
    }
   ],
   "source": [
    "im_data.reshape(-1, im_data.shape[2]).shape"
   ]
  },
  {
   "cell_type": "code",
   "execution_count": 20,
   "id": "b09c6ec8-13e2-4eb4-88a8-ff058dacdede",
   "metadata": {},
   "outputs": [
    {
     "data": {
      "text/plain": [
       "207690"
      ]
     },
     "execution_count": 20,
     "metadata": {},
     "output_type": "execute_result"
    }
   ],
   "source": [
    "483*430"
   ]
  },
  {
   "cell_type": "code",
   "execution_count": 21,
   "id": "97b23e75-ada2-415f-94ca-0ca25e69d643",
   "metadata": {},
   "outputs": [
    {
     "data": {
      "text/plain": [
       "array([[  0,   0,   0,   0],\n",
       "       [  0,   0,   0, 255],\n",
       "       [126,  22,  33, 255],\n",
       "       [255, 255, 255, 255]], dtype=uint8)"
      ]
     },
     "execution_count": 21,
     "metadata": {},
     "output_type": "execute_result"
    }
   ],
   "source": [
    "np.unique(im_data.reshape(-1, im_data.shape[2]),axis=0)"
   ]
  },
  {
   "cell_type": "code",
   "execution_count": 23,
   "id": "a0a5bc85-337a-4e58-a95f-cd1dcf41f2fe",
   "metadata": {},
   "outputs": [
    {
     "data": {
      "image/png": "[encoded data removed]",
      "text/plain": [
       "<Figure size 640x480 with 1 Axes>"
      ]
     },
     "metadata": {},
     "output_type": "display_data"
    }
   ],
   "source": [
    "plt.imshow(im_data)\n",
    "plt.show()"
   ]
  },
  {
   "cell_type": "code",
   "execution_count": 24,
   "id": "5a6b8d28-351f-4ac1-b0eb-5f8bc6b00f2b",
   "metadata": {},
   "outputs": [
    {
     "data": {
      "image/png": "[encoded data removed]",
      "text/plain": [
       "<Figure size 640x480 with 1 Axes>"
      ]
     },
     "metadata": {},
     "output_type": "display_data"
    }
   ],
   "source": [
    "fig, ax = plt.subplots()"
   ]
  },
  {
   "cell_type": "code",
   "execution_count": 25,
   "id": "a27375ef-da16-452f-aa8f-b3ec5c79a766",
   "metadata": {},
   "outputs": [
    {
     "data": {
      "image/png": "[encoded data removed]",
      "text/plain": [
       "<Figure size 640x480 with 1 Axes>"
      ]
     },
     "execution_count": 25,
     "metadata": {},
     "output_type": "execute_result"
    }
   ],
   "source": [
    "fig"
   ]
  },
  {
   "cell_type": "code",
   "execution_count": 26,
   "id": "55b083e9-d99f-4f77-8245-d253067a73dc",
   "metadata": {},
   "outputs": [
    {
     "data": {
      "text/plain": [
       "<AxesSubplot:>"
      ]
     },
     "execution_count": 26,
     "metadata": {},
     "output_type": "execute_result"
    }
   ],
   "source": [
    "ax"
   ]
  },
  {
   "cell_type": "code",
   "execution_count": null,
   "id": "f8f208f4-9ae5-4391-af56-a31ccf6ad74b",
   "metadata": {},
   "outputs": [],
   "source": []
  }
 ],
 "metadata": {
  "kernelspec": {
   "display_name": "Python 3 (ipykernel)",
   "language": "python",
   "name": "python3"
  },
  "language_info": {
   "codemirror_mode": {
    "name": "ipython",
    "version": 3
   },
   "file_extension": ".py",
   "mimetype": "text/x-python",
   "name": "python",
   "nbconvert_exporter": "python",
   "pygments_lexer": "ipython3",
   "version": "3.10.14"
  }
 },
 "nbformat": 4,
 "nbformat_minor": 5
}
