{
 "cells": [
  {
   "cell_type": "markdown",
   "id": "respective-store",
   "metadata": {},
   "source": [
    "# In Class Notebook, Week 05"
   ]
  },
  {
   "cell_type": "markdown",
   "id": "2a597611",
   "metadata": {},
   "source": [
    "You can click on the GitHub URL of this notebook to access the file in near-real time: https://github.com/UIUC-iSchool-DataViz/is445_bcubcg_fall2024/blob/master/week05/inClass_week05.ipynb \n",
    "\n",
    "Or you can copy-paste into the nbviewer interface for a plain-text rendering:\n",
    "\n",
    "https://kokes.github.io/nbviewer.js/viewer.html"
   ]
  },
  {
   "cell_type": "code",
   "execution_count": 1,
   "id": "b227d3fe",
   "metadata": {},
   "outputs": [],
   "source": [
    "import matplotlib.pyplot as plt\n",
    "import pandas as pd"
   ]
  },
  {
   "cell_type": "code",
   "execution_count": 3,
   "id": "9ee4fc54-7f99-49da-9a01-54f39208a2f1",
   "metadata": {},
   "outputs": [],
   "source": [
    "buildings = pd.read_csv('https://github.com/UIUC-iSchool-DataViz/is445_data/raw/main/building_inventory.csv',\n",
    "                       na_values={'Square Footage':0,\n",
    "                                  'Year Acquired':0,\n",
    "                                  'Year Constructed':0})"
   ]
  },
  {
   "cell_type": "code",
   "execution_count": 5,
   "id": "14db9f42-0ee0-43ef-9dd6-50b718471711",
   "metadata": {},
   "outputs": [],
   "source": [
    "#buildings.head()"
   ]
  },
  {
   "cell_type": "code",
   "execution_count": 6,
   "id": "459d1c64-13d7-469e-bbaf-734d52e3c26d",
   "metadata": {},
   "outputs": [
    {
     "data": {
      "text/html": [
       "<div>\n",
       "<style scoped>\n",
       "    .dataframe tbody tr th:only-of-type {\n",
       "        vertical-align: middle;\n",
       "    }\n",
       "\n",
       "    .dataframe tbody tr th {\n",
       "        vertical-align: top;\n",
       "    }\n",
       "\n",
       "    .dataframe thead th {\n",
       "        text-align: right;\n",
       "    }\n",
       "</style>\n",
       "<table border=\"1\" class=\"dataframe\">\n",
       "  <thead>\n",
       "    <tr style=\"text-align: right;\">\n",
       "      <th></th>\n",
       "      <th>count</th>\n",
       "      <th>mean</th>\n",
       "      <th>std</th>\n",
       "      <th>min</th>\n",
       "      <th>25%</th>\n",
       "      <th>50%</th>\n",
       "      <th>75%</th>\n",
       "      <th>max</th>\n",
       "    </tr>\n",
       "    <tr>\n",
       "      <th>Year Acquired</th>\n",
       "      <th></th>\n",
       "      <th></th>\n",
       "      <th></th>\n",
       "      <th></th>\n",
       "      <th></th>\n",
       "      <th></th>\n",
       "      <th></th>\n",
       "      <th></th>\n",
       "    </tr>\n",
       "  </thead>\n",
       "  <tbody>\n",
       "    <tr>\n",
       "      <th>1753.0</th>\n",
       "      <td>1.0</td>\n",
       "      <td>1200.000000</td>\n",
       "      <td>NaN</td>\n",
       "      <td>1200.0</td>\n",
       "      <td>1200.0</td>\n",
       "      <td>1200.0</td>\n",
       "      <td>1200.00</td>\n",
       "      <td>1200.0</td>\n",
       "    </tr>\n",
       "    <tr>\n",
       "      <th>1802.0</th>\n",
       "      <td>2.0</td>\n",
       "      <td>2220.000000</td>\n",
       "      <td>1943.129435</td>\n",
       "      <td>846.0</td>\n",
       "      <td>1533.0</td>\n",
       "      <td>2220.0</td>\n",
       "      <td>2907.00</td>\n",
       "      <td>3594.0</td>\n",
       "    </tr>\n",
       "    <tr>\n",
       "      <th>1810.0</th>\n",
       "      <td>3.0</td>\n",
       "      <td>1344.333333</td>\n",
       "      <td>1809.945948</td>\n",
       "      <td>216.0</td>\n",
       "      <td>300.5</td>\n",
       "      <td>385.0</td>\n",
       "      <td>1908.50</td>\n",
       "      <td>3432.0</td>\n",
       "    </tr>\n",
       "    <tr>\n",
       "      <th>1832.0</th>\n",
       "      <td>1.0</td>\n",
       "      <td>120000.000000</td>\n",
       "      <td>NaN</td>\n",
       "      <td>120000.0</td>\n",
       "      <td>120000.0</td>\n",
       "      <td>120000.0</td>\n",
       "      <td>120000.00</td>\n",
       "      <td>120000.0</td>\n",
       "    </tr>\n",
       "    <tr>\n",
       "      <th>1837.0</th>\n",
       "      <td>1.0</td>\n",
       "      <td>10302.000000</td>\n",
       "      <td>NaN</td>\n",
       "      <td>10302.0</td>\n",
       "      <td>10302.0</td>\n",
       "      <td>10302.0</td>\n",
       "      <td>10302.00</td>\n",
       "      <td>10302.0</td>\n",
       "    </tr>\n",
       "    <tr>\n",
       "      <th>...</th>\n",
       "      <td>...</td>\n",
       "      <td>...</td>\n",
       "      <td>...</td>\n",
       "      <td>...</td>\n",
       "      <td>...</td>\n",
       "      <td>...</td>\n",
       "      <td>...</td>\n",
       "      <td>...</td>\n",
       "    </tr>\n",
       "    <tr>\n",
       "      <th>2015.0</th>\n",
       "      <td>20.0</td>\n",
       "      <td>15254.650000</td>\n",
       "      <td>29153.085290</td>\n",
       "      <td>144.0</td>\n",
       "      <td>696.0</td>\n",
       "      <td>3152.0</td>\n",
       "      <td>10590.25</td>\n",
       "      <td>105000.0</td>\n",
       "    </tr>\n",
       "    <tr>\n",
       "      <th>2016.0</th>\n",
       "      <td>10.0</td>\n",
       "      <td>30483.900000</td>\n",
       "      <td>61864.180491</td>\n",
       "      <td>1152.0</td>\n",
       "      <td>2464.0</td>\n",
       "      <td>3352.5</td>\n",
       "      <td>3793.00</td>\n",
       "      <td>184000.0</td>\n",
       "    </tr>\n",
       "    <tr>\n",
       "      <th>2017.0</th>\n",
       "      <td>1.0</td>\n",
       "      <td>6720.000000</td>\n",
       "      <td>NaN</td>\n",
       "      <td>6720.0</td>\n",
       "      <td>6720.0</td>\n",
       "      <td>6720.0</td>\n",
       "      <td>6720.00</td>\n",
       "      <td>6720.0</td>\n",
       "    </tr>\n",
       "    <tr>\n",
       "      <th>2018.0</th>\n",
       "      <td>4.0</td>\n",
       "      <td>4290.000000</td>\n",
       "      <td>5153.644342</td>\n",
       "      <td>1455.0</td>\n",
       "      <td>1455.0</td>\n",
       "      <td>1852.5</td>\n",
       "      <td>4687.50</td>\n",
       "      <td>12000.0</td>\n",
       "    </tr>\n",
       "    <tr>\n",
       "      <th>2019.0</th>\n",
       "      <td>2.0</td>\n",
       "      <td>760.000000</td>\n",
       "      <td>0.000000</td>\n",
       "      <td>760.0</td>\n",
       "      <td>760.0</td>\n",
       "      <td>760.0</td>\n",
       "      <td>760.00</td>\n",
       "      <td>760.0</td>\n",
       "    </tr>\n",
       "  </tbody>\n",
       "</table>\n",
       "<p>171 rows × 8 columns</p>\n",
       "</div>"
      ],
      "text/plain": [
       "               count           mean           std       min       25%  \\\n",
       "Year Acquired                                                           \n",
       "1753.0           1.0    1200.000000           NaN    1200.0    1200.0   \n",
       "1802.0           2.0    2220.000000   1943.129435     846.0    1533.0   \n",
       "1810.0           3.0    1344.333333   1809.945948     216.0     300.5   \n",
       "1832.0           1.0  120000.000000           NaN  120000.0  120000.0   \n",
       "1837.0           1.0   10302.000000           NaN   10302.0   10302.0   \n",
       "...              ...            ...           ...       ...       ...   \n",
       "2015.0          20.0   15254.650000  29153.085290     144.0     696.0   \n",
       "2016.0          10.0   30483.900000  61864.180491    1152.0    2464.0   \n",
       "2017.0           1.0    6720.000000           NaN    6720.0    6720.0   \n",
       "2018.0           4.0    4290.000000   5153.644342    1455.0    1455.0   \n",
       "2019.0           2.0     760.000000      0.000000     760.0     760.0   \n",
       "\n",
       "                    50%        75%       max  \n",
       "Year Acquired                                 \n",
       "1753.0           1200.0    1200.00    1200.0  \n",
       "1802.0           2220.0    2907.00    3594.0  \n",
       "1810.0            385.0    1908.50    3432.0  \n",
       "1832.0         120000.0  120000.00  120000.0  \n",
       "1837.0          10302.0   10302.00   10302.0  \n",
       "...                 ...        ...       ...  \n",
       "2015.0           3152.0   10590.25  105000.0  \n",
       "2016.0           3352.5    3793.00  184000.0  \n",
       "2017.0           6720.0    6720.00    6720.0  \n",
       "2018.0           1852.5    4687.50   12000.0  \n",
       "2019.0            760.0     760.00     760.0  \n",
       "\n",
       "[171 rows x 8 columns]"
      ]
     },
     "execution_count": 6,
     "metadata": {},
     "output_type": "execute_result"
    }
   ],
   "source": [
    "stats = buildings.groupby('Year Acquired')['Square Footage'].describe()\n",
    "stats"
   ]
  },
  {
   "cell_type": "code",
   "execution_count": 10,
   "id": "651a8506-72ce-4b0b-9e71-836d3e05d945",
   "metadata": {},
   "outputs": [
    {
     "data": {
      "image/png": "[encoded data removed]",
      "text/plain": [
       "<Figure size 1000x200 with 1 Axes>"
      ]
     },
     "metadata": {},
     "output_type": "display_data"
    }
   ],
   "source": [
    "fig, ax = plt.subplots(figsize=(10,2))\n",
    "ax.plot(stats['max'], marker='.')\n",
    "ax.set_xlabel('Year')\n",
    "ax.set_ylabel('Maximum Square Footage')\n",
    "ax.set_yscale('log')\n",
    "plt.show()"
   ]
  },
  {
   "cell_type": "code",
   "execution_count": 9,
   "id": "9a51458b-b3a3-4fc1-b91c-2ac020b2601a",
   "metadata": {},
   "outputs": [
    {
     "data": {
      "text/plain": [
       "(750.0, 1200000.0)"
      ]
     },
     "execution_count": 9,
     "metadata": {},
     "output_type": "execute_result"
    }
   ],
   "source": [
    "stats['max'].min(), stats['max'].max()"
   ]
  },
  {
   "cell_type": "code",
   "execution_count": null,
   "id": "f19371c3-7f1d-46df-a0ea-5c034481efba",
   "metadata": {},
   "outputs": [],
   "source": []
  }
 ],
 "metadata": {
  "kernelspec": {
   "display_name": "Python 3 (ipykernel)",
   "language": "python",
   "name": "python3"
  },
  "language_info": {
   "codemirror_mode": {
    "name": "ipython",
    "version": 3
   },
   "file_extension": ".py",
   "mimetype": "text/x-python",
   "name": "python",
   "nbconvert_exporter": "python",
   "pygments_lexer": "ipython3",
   "version": "3.10.14"
  }
 },
 "nbformat": 4,
 "nbformat_minor": 5
}
