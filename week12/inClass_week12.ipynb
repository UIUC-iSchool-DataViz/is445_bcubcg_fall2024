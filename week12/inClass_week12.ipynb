{
 "cells": [
  {
   "cell_type": "markdown",
   "id": "respective-store",
   "metadata": {},
   "source": [
    "# In Class Notebook, Week 12"
   ]
  },
  {
   "cell_type": "markdown",
   "id": "2a597611",
   "metadata": {},
   "source": [
    "You can always access the URL of this notebook: https://github.com/UIUC-iSchool-DataViz/is445_bcubcg_fall2024/blob/master/week12/inClass_week12.ipynb \n",
    "\n",
    "Or post the URL into the nbviewer interface for a plain-text rendering:\n",
    "\n",
    "https://kokes.github.io/nbviewer.js/viewer.html"
   ]
  },
  {
   "cell_type": "code",
   "execution_count": 1,
   "id": "59b5d4dd",
   "metadata": {},
   "outputs": [],
   "source": [
    "import altair as alt"
   ]
  },
  {
   "cell_type": "code",
   "execution_count": 2,
   "id": "bd631b3f",
   "metadata": {},
   "outputs": [],
   "source": [
    "mobility_url = 'https://raw.githubusercontent.com/UIUC-iSchool-DataViz/is445_data/main/mobility.csv'"
   ]
  },
  {
   "cell_type": "code",
   "execution_count": 4,
   "id": "36e50e9f",
   "metadata": {},
   "outputs": [
    {
     "data": {
      "text/html": [
       "\n",
       "<style>\n",
       "  #altair-viz-1e29a916b7ed4a36ae224a2cc6eff6e1.vega-embed {\n",
       "    width: 100%;\n",
       "    display: flex;\n",
       "  }\n",
       "\n",
       "  #altair-viz-1e29a916b7ed4a36ae224a2cc6eff6e1.vega-embed details,\n",
       "  #altair-viz-1e29a916b7ed4a36ae224a2cc6eff6e1.vega-embed details summary {\n",
       "    position: relative;\n",
       "  }\n",
       "</style>\n",
       "<div id=\"altair-viz-1e29a916b7ed4a36ae224a2cc6eff6e1\"></div>\n",
       "<script type=\"text/javascript\">\n",
       "  var VEGA_DEBUG = (typeof VEGA_DEBUG == \"undefined\") ? {} : VEGA_DEBUG;\n",
       "  (function(spec, embedOpt){\n",
       "    let outputDiv = document.currentScript.previousElementSibling;\n",
       "    if (outputDiv.id !== \"altair-viz-1e29a916b7ed4a36ae224a2cc6eff6e1\") {\n",
       "      outputDiv = document.getElementById(\"altair-viz-1e29a916b7ed4a36ae224a2cc6eff6e1\");\n",
       "    }\n",
       "    const paths = {\n",
       "      \"vega\": \"https://cdn.jsdelivr.net/npm/vega@5?noext\",\n",
       "      \"vega-lib\": \"https://cdn.jsdelivr.net/npm/vega-lib?noext\",\n",
       "      \"vega-lite\": \"https://cdn.jsdelivr.net/npm/vega-lite@5.20.1?noext\",\n",
       "      \"vega-embed\": \"https://cdn.jsdelivr.net/npm/vega-embed@6?noext\",\n",
       "    };\n",
       "\n",
       "    function maybeLoadScript(lib, version) {\n",
       "      var key = `${lib.replace(\"-\", \"\")}_version`;\n",
       "      return (VEGA_DEBUG[key] == version) ?\n",
       "        Promise.resolve(paths[lib]) :\n",
       "        new Promise(function(resolve, reject) {\n",
       "          var s = document.createElement('script');\n",
       "          document.getElementsByTagName(\"head\")[0].appendChild(s);\n",
       "          s.async = true;\n",
       "          s.onload = () => {\n",
       "            VEGA_DEBUG[key] = version;\n",
       "            return resolve(paths[lib]);\n",
       "          };\n",
       "          s.onerror = () => reject(`Error loading script: ${paths[lib]}`);\n",
       "          s.src = paths[lib];\n",
       "        });\n",
       "    }\n",
       "\n",
       "    function showError(err) {\n",
       "      outputDiv.innerHTML = `<div class=\"error\" style=\"color:red;\">${err}</div>`;\n",
       "      throw err;\n",
       "    }\n",
       "\n",
       "    function displayChart(vegaEmbed) {\n",
       "      vegaEmbed(outputDiv, spec, embedOpt)\n",
       "        .catch(err => showError(`Javascript Error: ${err.message}<br>This usually means there's a typo in your chart specification. See the javascript console for the full traceback.`));\n",
       "    }\n",
       "\n",
       "    if(typeof define === \"function\" && define.amd) {\n",
       "      requirejs.config({paths});\n",
       "      require([\"vega-embed\"], displayChart, err => showError(`Error loading script: ${err.message}`));\n",
       "    } else {\n",
       "      maybeLoadScript(\"vega\", \"5\")\n",
       "        .then(() => maybeLoadScript(\"vega-lite\", \"5.20.1\"))\n",
       "        .then(() => maybeLoadScript(\"vega-embed\", \"6\"))\n",
       "        .catch(showError)\n",
       "        .then(() => displayChart(vegaEmbed));\n",
       "    }\n",
       "  })({\"config\": {\"view\": {\"continuousWidth\": 300, \"continuousHeight\": 300}}, \"data\": {\"url\": \"https://raw.githubusercontent.com/UIUC-iSchool-DataViz/is445_data/main/mobility.csv\"}, \"mark\": {\"type\": \"point\"}, \"encoding\": {\"color\": {\"bin\": {\"maxbins\": 5}, \"field\": \"Income\", \"scale\": {\"scheme\": \"sinebow\"}, \"type\": \"quantitative\"}, \"x\": {\"field\": \"Mobility\", \"type\": \"quantitative\"}, \"y\": {\"field\": \"Population\", \"scale\": {\"type\": \"log\"}, \"type\": \"quantitative\"}}, \"$schema\": \"https://vega.github.io/schema/vega-lite/v5.20.1.json\"}, {\"mode\": \"vega-lite\"});\n",
       "</script>"
      ],
      "text/plain": [
       "alt.Chart(...)"
      ]
     },
     "execution_count": 4,
     "metadata": {},
     "output_type": "execute_result"
    }
   ],
   "source": [
    "scatter = alt.Chart(mobility_url).mark_point().encode(\n",
    "    x='Mobility:Q',\n",
    "    y = alt.Y('Population:Q', scale=alt.Scale(type='log')),\n",
    "    color = alt.Color('Income:Q', scale=alt.Scale(scheme='sinebow'), bin=alt.Bin(maxbins=5))\n",
    ")\n",
    "scatter"
   ]
  },
  {
   "cell_type": "code",
   "execution_count": 5,
   "id": "f128d52a",
   "metadata": {},
   "outputs": [],
   "source": [
    "myJekyllDir = '/Users/jnaiman/jnaiman.github.io/assets/json/'\n",
    "# on PL\n",
    "#myJekyllDir = './'\n",
    "# download each .json file that gets generated, save to <your github.io directory>/assets/json/"
   ]
  },
  {
   "cell_type": "code",
   "execution_count": 6,
   "id": "bf3f3ce4",
   "metadata": {},
   "outputs": [],
   "source": [
    "scatter.save(myJekyllDir + 'population_scatter.json')"
   ]
  },
  {
   "cell_type": "code",
   "execution_count": 7,
   "id": "5eac633b",
   "metadata": {},
   "outputs": [
    {
     "data": {
      "text/html": [
       "\n",
       "<style>\n",
       "  #altair-viz-3bb1d0e16b754bed954ddcbae61901d3.vega-embed {\n",
       "    width: 100%;\n",
       "    display: flex;\n",
       "  }\n",
       "\n",
       "  #altair-viz-3bb1d0e16b754bed954ddcbae61901d3.vega-embed details,\n",
       "  #altair-viz-3bb1d0e16b754bed954ddcbae61901d3.vega-embed details summary {\n",
       "    position: relative;\n",
       "  }\n",
       "</style>\n",
       "<div id=\"altair-viz-3bb1d0e16b754bed954ddcbae61901d3\"></div>\n",
       "<script type=\"text/javascript\">\n",
       "  var VEGA_DEBUG = (typeof VEGA_DEBUG == \"undefined\") ? {} : VEGA_DEBUG;\n",
       "  (function(spec, embedOpt){\n",
       "    let outputDiv = document.currentScript.previousElementSibling;\n",
       "    if (outputDiv.id !== \"altair-viz-3bb1d0e16b754bed954ddcbae61901d3\") {\n",
       "      outputDiv = document.getElementById(\"altair-viz-3bb1d0e16b754bed954ddcbae61901d3\");\n",
       "    }\n",
       "    const paths = {\n",
       "      \"vega\": \"https://cdn.jsdelivr.net/npm/vega@5?noext\",\n",
       "      \"vega-lib\": \"https://cdn.jsdelivr.net/npm/vega-lib?noext\",\n",
       "      \"vega-lite\": \"https://cdn.jsdelivr.net/npm/vega-lite@5.20.1?noext\",\n",
       "      \"vega-embed\": \"https://cdn.jsdelivr.net/npm/vega-embed@6?noext\",\n",
       "    };\n",
       "\n",
       "    function maybeLoadScript(lib, version) {\n",
       "      var key = `${lib.replace(\"-\", \"\")}_version`;\n",
       "      return (VEGA_DEBUG[key] == version) ?\n",
       "        Promise.resolve(paths[lib]) :\n",
       "        new Promise(function(resolve, reject) {\n",
       "          var s = document.createElement('script');\n",
       "          document.getElementsByTagName(\"head\")[0].appendChild(s);\n",
       "          s.async = true;\n",
       "          s.onload = () => {\n",
       "            VEGA_DEBUG[key] = version;\n",
       "            return resolve(paths[lib]);\n",
       "          };\n",
       "          s.onerror = () => reject(`Error loading script: ${paths[lib]}`);\n",
       "          s.src = paths[lib];\n",
       "        });\n",
       "    }\n",
       "\n",
       "    function showError(err) {\n",
       "      outputDiv.innerHTML = `<div class=\"error\" style=\"color:red;\">${err}</div>`;\n",
       "      throw err;\n",
       "    }\n",
       "\n",
       "    function displayChart(vegaEmbed) {\n",
       "      vegaEmbed(outputDiv, spec, embedOpt)\n",
       "        .catch(err => showError(`Javascript Error: ${err.message}<br>This usually means there's a typo in your chart specification. See the javascript console for the full traceback.`));\n",
       "    }\n",
       "\n",
       "    if(typeof define === \"function\" && define.amd) {\n",
       "      requirejs.config({paths});\n",
       "      require([\"vega-embed\"], displayChart, err => showError(`Error loading script: ${err.message}`));\n",
       "    } else {\n",
       "      maybeLoadScript(\"vega\", \"5\")\n",
       "        .then(() => maybeLoadScript(\"vega-lite\", \"5.20.1\"))\n",
       "        .then(() => maybeLoadScript(\"vega-embed\", \"6\"))\n",
       "        .catch(showError)\n",
       "        .then(() => displayChart(vegaEmbed));\n",
       "    }\n",
       "  })({\"config\": {\"view\": {\"continuousWidth\": 300, \"continuousHeight\": 300}}, \"data\": {\"url\": \"https://raw.githubusercontent.com/UIUC-iSchool-DataViz/is445_data/main/mobility.csv\"}, \"mark\": {\"type\": \"point\"}, \"encoding\": {\"color\": {\"bin\": {\"maxbins\": 5}, \"field\": \"Income\", \"scale\": {\"scheme\": \"sinebow\"}, \"type\": \"quantitative\"}, \"x\": {\"field\": \"Mobility\", \"type\": \"quantitative\"}, \"y\": {\"field\": \"Population\", \"scale\": {\"type\": \"log\"}, \"type\": \"quantitative\"}}, \"$schema\": \"https://vega.github.io/schema/vega-lite/v5.20.1.json\"}, {\"mode\": \"vega-lite\"});\n",
       "</script>"
      ],
      "text/plain": [
       "alt.Chart(...)"
      ]
     },
     "execution_count": 7,
     "metadata": {},
     "output_type": "execute_result"
    }
   ],
   "source": [
    "scatter2 = alt.Chart(mobility_url).mark_point().encode(\n",
    "    x='Mobility:Q',\n",
    "    y = alt.Y('Population:Q', scale=alt.Scale(type='log')),\n",
    "    color = alt.Color('Income:Q', scale=alt.Scale(scheme='sinebow'), bin=alt.Bin(maxbins=5))\n",
    ")\n",
    "scatter2"
   ]
  },
  {
   "cell_type": "code",
   "execution_count": 8,
   "id": "a258f235",
   "metadata": {},
   "outputs": [],
   "source": [
    "scatter2.properties(width='container').save(myJekyllDir+'population_scatter_container.json')"
   ]
  },
  {
   "cell_type": "code",
   "execution_count": 14,
   "id": "72e13079",
   "metadata": {},
   "outputs": [
    {
     "data": {
      "text/html": [
       "\n",
       "<style>\n",
       "  #altair-viz-913e1837dd364791ae6531cbd7237656.vega-embed {\n",
       "    width: 100%;\n",
       "    display: flex;\n",
       "  }\n",
       "\n",
       "  #altair-viz-913e1837dd364791ae6531cbd7237656.vega-embed details,\n",
       "  #altair-viz-913e1837dd364791ae6531cbd7237656.vega-embed details summary {\n",
       "    position: relative;\n",
       "  }\n",
       "</style>\n",
       "<div id=\"altair-viz-913e1837dd364791ae6531cbd7237656\"></div>\n",
       "<script type=\"text/javascript\">\n",
       "  var VEGA_DEBUG = (typeof VEGA_DEBUG == \"undefined\") ? {} : VEGA_DEBUG;\n",
       "  (function(spec, embedOpt){\n",
       "    let outputDiv = document.currentScript.previousElementSibling;\n",
       "    if (outputDiv.id !== \"altair-viz-913e1837dd364791ae6531cbd7237656\") {\n",
       "      outputDiv = document.getElementById(\"altair-viz-913e1837dd364791ae6531cbd7237656\");\n",
       "    }\n",
       "    const paths = {\n",
       "      \"vega\": \"https://cdn.jsdelivr.net/npm/vega@5?noext\",\n",
       "      \"vega-lib\": \"https://cdn.jsdelivr.net/npm/vega-lib?noext\",\n",
       "      \"vega-lite\": \"https://cdn.jsdelivr.net/npm/vega-lite@5.20.1?noext\",\n",
       "      \"vega-embed\": \"https://cdn.jsdelivr.net/npm/vega-embed@6?noext\",\n",
       "    };\n",
       "\n",
       "    function maybeLoadScript(lib, version) {\n",
       "      var key = `${lib.replace(\"-\", \"\")}_version`;\n",
       "      return (VEGA_DEBUG[key] == version) ?\n",
       "        Promise.resolve(paths[lib]) :\n",
       "        new Promise(function(resolve, reject) {\n",
       "          var s = document.createElement('script');\n",
       "          document.getElementsByTagName(\"head\")[0].appendChild(s);\n",
       "          s.async = true;\n",
       "          s.onload = () => {\n",
       "            VEGA_DEBUG[key] = version;\n",
       "            return resolve(paths[lib]);\n",
       "          };\n",
       "          s.onerror = () => reject(`Error loading script: ${paths[lib]}`);\n",
       "          s.src = paths[lib];\n",
       "        });\n",
       "    }\n",
       "\n",
       "    function showError(err) {\n",
       "      outputDiv.innerHTML = `<div class=\"error\" style=\"color:red;\">${err}</div>`;\n",
       "      throw err;\n",
       "    }\n",
       "\n",
       "    function displayChart(vegaEmbed) {\n",
       "      vegaEmbed(outputDiv, spec, embedOpt)\n",
       "        .catch(err => showError(`Javascript Error: ${err.message}<br>This usually means there's a typo in your chart specification. See the javascript console for the full traceback.`));\n",
       "    }\n",
       "\n",
       "    if(typeof define === \"function\" && define.amd) {\n",
       "      requirejs.config({paths});\n",
       "      require([\"vega-embed\"], displayChart, err => showError(`Error loading script: ${err.message}`));\n",
       "    } else {\n",
       "      maybeLoadScript(\"vega\", \"5\")\n",
       "        .then(() => maybeLoadScript(\"vega-lite\", \"5.20.1\"))\n",
       "        .then(() => maybeLoadScript(\"vega-embed\", \"6\"))\n",
       "        .catch(showError)\n",
       "        .then(() => displayChart(vegaEmbed));\n",
       "    }\n",
       "  })({\"config\": {\"view\": {\"continuousWidth\": 300, \"continuousHeight\": 300}}, \"hconcat\": [{\"mark\": {\"type\": \"rect\"}, \"encoding\": {\"color\": {\"aggregate\": \"count\", \"type\": \"quantitative\"}, \"x\": {\"bin\": {\"maxbins\": 10}, \"field\": \"Student_teacher_ratio\", \"type\": \"quantitative\"}, \"y\": {\"field\": \"State\", \"type\": \"ordinal\"}}, \"height\": 400, \"name\": \"view_4\"}, {\"mark\": {\"type\": \"bar\"}, \"encoding\": {\"x\": {\"axis\": {\"title\": \"Mobility Score\"}, \"bin\": true, \"field\": \"Mobility\", \"type\": \"quantitative\"}, \"y\": {\"aggregate\": \"count\", \"axis\": {\"title\": \"Mobility Score Distribution\"}, \"type\": \"quantitative\"}}, \"transform\": [{\"filter\": {\"param\": \"param_2\"}}]}], \"data\": {\"url\": \"https://raw.githubusercontent.com/UIUC-iSchool-DataViz/is445_data/main/mobility.csv\"}, \"params\": [{\"name\": \"param_2\", \"select\": {\"type\": \"interval\", \"encodings\": [\"x\", \"y\"]}, \"views\": [\"view_4\"]}], \"$schema\": \"https://vega.github.io/schema/vega-lite/v5.20.1.json\"}, {\"mode\": \"vega-lite\"});\n",
       "</script>"
      ],
      "text/plain": [
       "alt.HConcatChart(...)"
      ]
     },
     "execution_count": 14,
     "metadata": {},
     "output_type": "execute_result"
    }
   ],
   "source": [
    "brush = alt.selection_interval(encodings=['x','y'])\n",
    "\n",
    "chart1 = alt.Chart(mobility_url).mark_rect().encode(\n",
    "    alt.X(\"Student_teacher_ratio:Q\", bin=alt.Bin(maxbins=10)),\n",
    "    alt.Y(\"State:O\"),\n",
    "    alt.Color(\"count()\")\n",
    ").properties(\n",
    "    height=400\n",
    ").add_params(\n",
    "    brush\n",
    ")\n",
    "\n",
    "chart2 = alt.Chart(mobility_url).mark_bar().encode(\n",
    "    alt.X(\"Mobility:Q\",bin=True, axis=alt.Axis(title='Mobility Score')),\n",
    "    alt.Y(\"count()\", axis=alt.Axis(title='Mobility Score Distribution'))\n",
    ").transform_filter(\n",
    "    brush\n",
    ")\n",
    "\n",
    "chart = chart1 | chart2\n",
    "chart"
   ]
  },
  {
   "cell_type": "code",
   "execution_count": 11,
   "id": "d785d143",
   "metadata": {},
   "outputs": [],
   "source": [
    "#chart.properties(width='container').save(myJekyllDir + 'mobility_container.json')\n",
    "chart.save(myJekyllDir + 'mobility_container.json')"
   ]
  },
  {
   "cell_type": "code",
   "execution_count": 15,
   "id": "a2954009",
   "metadata": {},
   "outputs": [
    {
     "data": {
      "text/html": [
       "\n",
       "<style>\n",
       "  #altair-viz-781e93484d354060840bbab803c5d2ff.vega-embed {\n",
       "    width: 100%;\n",
       "    display: flex;\n",
       "  }\n",
       "\n",
       "  #altair-viz-781e93484d354060840bbab803c5d2ff.vega-embed details,\n",
       "  #altair-viz-781e93484d354060840bbab803c5d2ff.vega-embed details summary {\n",
       "    position: relative;\n",
       "  }\n",
       "</style>\n",
       "<div id=\"altair-viz-781e93484d354060840bbab803c5d2ff\"></div>\n",
       "<script type=\"text/javascript\">\n",
       "  var VEGA_DEBUG = (typeof VEGA_DEBUG == \"undefined\") ? {} : VEGA_DEBUG;\n",
       "  (function(spec, embedOpt){\n",
       "    let outputDiv = document.currentScript.previousElementSibling;\n",
       "    if (outputDiv.id !== \"altair-viz-781e93484d354060840bbab803c5d2ff\") {\n",
       "      outputDiv = document.getElementById(\"altair-viz-781e93484d354060840bbab803c5d2ff\");\n",
       "    }\n",
       "    const paths = {\n",
       "      \"vega\": \"https://cdn.jsdelivr.net/npm/vega@5?noext\",\n",
       "      \"vega-lib\": \"https://cdn.jsdelivr.net/npm/vega-lib?noext\",\n",
       "      \"vega-lite\": \"https://cdn.jsdelivr.net/npm/vega-lite@5.20.1?noext\",\n",
       "      \"vega-embed\": \"https://cdn.jsdelivr.net/npm/vega-embed@6?noext\",\n",
       "    };\n",
       "\n",
       "    function maybeLoadScript(lib, version) {\n",
       "      var key = `${lib.replace(\"-\", \"\")}_version`;\n",
       "      return (VEGA_DEBUG[key] == version) ?\n",
       "        Promise.resolve(paths[lib]) :\n",
       "        new Promise(function(resolve, reject) {\n",
       "          var s = document.createElement('script');\n",
       "          document.getElementsByTagName(\"head\")[0].appendChild(s);\n",
       "          s.async = true;\n",
       "          s.onload = () => {\n",
       "            VEGA_DEBUG[key] = version;\n",
       "            return resolve(paths[lib]);\n",
       "          };\n",
       "          s.onerror = () => reject(`Error loading script: ${paths[lib]}`);\n",
       "          s.src = paths[lib];\n",
       "        });\n",
       "    }\n",
       "\n",
       "    function showError(err) {\n",
       "      outputDiv.innerHTML = `<div class=\"error\" style=\"color:red;\">${err}</div>`;\n",
       "      throw err;\n",
       "    }\n",
       "\n",
       "    function displayChart(vegaEmbed) {\n",
       "      vegaEmbed(outputDiv, spec, embedOpt)\n",
       "        .catch(err => showError(`Javascript Error: ${err.message}<br>This usually means there's a typo in your chart specification. See the javascript console for the full traceback.`));\n",
       "    }\n",
       "\n",
       "    if(typeof define === \"function\" && define.amd) {\n",
       "      requirejs.config({paths});\n",
       "      require([\"vega-embed\"], displayChart, err => showError(`Error loading script: ${err.message}`));\n",
       "    } else {\n",
       "      maybeLoadScript(\"vega\", \"5\")\n",
       "        .then(() => maybeLoadScript(\"vega-lite\", \"5.20.1\"))\n",
       "        .then(() => maybeLoadScript(\"vega-embed\", \"6\"))\n",
       "        .catch(showError)\n",
       "        .then(() => displayChart(vegaEmbed));\n",
       "    }\n",
       "  })({\"config\": {\"view\": {\"continuousWidth\": 300, \"continuousHeight\": 300}}, \"hconcat\": [{\"mark\": {\"type\": \"rect\"}, \"encoding\": {\"color\": {\"aggregate\": \"count\", \"type\": \"quantitative\"}, \"x\": {\"bin\": {\"maxbins\": 10}, \"field\": \"Student_teacher_ratio\", \"type\": \"quantitative\"}, \"y\": {\"field\": \"State\", \"type\": \"ordinal\"}}, \"height\": 400, \"name\": \"view_5\", \"width\": 200}, {\"mark\": {\"type\": \"bar\"}, \"encoding\": {\"x\": {\"axis\": {\"title\": \"Mobility Score\"}, \"bin\": true, \"field\": \"Mobility\", \"type\": \"quantitative\"}, \"y\": {\"aggregate\": \"count\", \"axis\": {\"title\": \"Mobility Score Distribution\"}, \"type\": \"quantitative\"}}, \"transform\": [{\"filter\": {\"param\": \"param_2\"}}], \"width\": 200}], \"data\": {\"url\": \"https://raw.githubusercontent.com/UIUC-iSchool-DataViz/is445_data/main/mobility.csv\"}, \"params\": [{\"name\": \"param_2\", \"select\": {\"type\": \"interval\", \"encodings\": [\"x\", \"y\"]}, \"views\": [\"view_5\"]}], \"$schema\": \"https://vega.github.io/schema/vega-lite/v5.20.1.json\"}, {\"mode\": \"vega-lite\"});\n",
       "</script>"
      ],
      "text/plain": [
       "alt.HConcatChart(...)"
      ]
     },
     "execution_count": 15,
     "metadata": {},
     "output_type": "execute_result"
    }
   ],
   "source": [
    "# also specify fixed sizes for each plot:\n",
    "\n",
    "chart_h2 = (chart1.properties(width=200)) | (chart2.properties(width=200))\n",
    "chart_h2"
   ]
  },
  {
   "cell_type": "code",
   "execution_count": 16,
   "id": "dba9d830",
   "metadata": {},
   "outputs": [],
   "source": [
    "chart_h2.save(myJekyllDir + 'mobility_small.json')"
   ]
  },
  {
   "cell_type": "code",
   "execution_count": null,
   "id": "b479b76f",
   "metadata": {},
   "outputs": [],
   "source": []
  }
 ],
 "metadata": {
  "kernelspec": {
   "display_name": "DataViz2",
   "language": "python",
   "name": "python3"
  },
  "language_info": {
   "codemirror_mode": {
    "name": "ipython",
    "version": 3
   },
   "file_extension": ".py",
   "mimetype": "text/x-python",
   "name": "python",
   "nbconvert_exporter": "python",
   "pygments_lexer": "ipython3",
   "version": "3.10.14"
  }
 },
 "nbformat": 4,
 "nbformat_minor": 5
}
